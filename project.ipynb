{
 "cells": [
  {
   "cell_type": "code",
   "execution_count": 19,
   "id": "483a3e52",
   "metadata": {},
   "outputs": [
    {
     "name": "stdout",
     "output_type": "stream",
     "text": [
      "write start :start\n",
      "[['square', 'red'], ['square', 'blue'], ['square', 'green']] \n",
      " [['circle', 'red'], ['circle', 'blue'], ['circle', 'green']] \n",
      " [['triangle', 'red'], ['triangle', 'blue'], ['triangle', 'green']]\n",
      "[]\n"
     ]
    },
    {
     "data": {
      "text/plain": [
       "9"
      ]
     },
     "execution_count": 19,
     "metadata": {},
     "output_type": "execute_result"
    }
   ],
   "source": [
    "import random\n",
    "basket=[[\"square\",\"red\"],[\"circle\",\"red\"],[\"triangle\",\"green\"],[\"circle\",\"blue\"],[\"circle\",\"green\"],[\"triangle\",\"red\"],[\"triangle\",\"blue\"],[\"square\",\"blue\"],[\"square\",\"green\"]]\n",
    "circle_list=[0,0,0]\n",
    "square_list=[0,0,0]\n",
    "triangle_list=[0,0,0]\n",
    "z=input(\"write start :\")\n",
    "if z==\"start\":\n",
    "    def counter1(n):\n",
    "        count1=0\n",
    "        while count1<n:\n",
    "            count1=count1+1\n",
    "        return count1\n",
    "    for i in range(0,9):\n",
    "        counter1(10)      \n",
    "        x=random.choice(basket)\n",
    "        if x==[\"triangle\",\"red\"]:\n",
    "            counter1(10)\n",
    "            triangle_list[0]=x\n",
    "            basket.remove(x)\n",
    "        elif  x==[\"triangle\",\"blue\"]:\n",
    "            counter1(10)\n",
    "            counter1(1)\n",
    "            basket.remove(x)\n",
    "            triangle_list[1]=x\n",
    "        elif  x==[\"triangle\",\"green\"]:\n",
    "            counter1(10)\n",
    "            counter1(2)\n",
    "            triangle_list[2]=x\n",
    "            basket.remove(x)\n",
    "        elif x==[\"square\",\"red\"]:\n",
    "            counter1(10)\n",
    "            counter1(3)\n",
    "            square_list[0]=x\n",
    "            basket.remove(x)\n",
    "        elif x==[\"square\",\"blue\"]:\n",
    "            counter1(10)\n",
    "            counter1(4)\n",
    "            square_list[1]=x\n",
    "            basket.remove(x)\n",
    "        elif x==[\"square\",\"green\"]:\n",
    "            counter1(10)\n",
    "            counter1(5)\n",
    "            square_list[2]=x\n",
    "            basket.remove(x)\n",
    "        elif x==[\"circle\",\"red\"]:\n",
    "            counter1(10)\n",
    "            counter1(7)\n",
    "            circle_list[0]=x\n",
    "            basket.remove(x)\n",
    "        elif x==[\"circle\",\"blue\"]:\n",
    "            counter1(10)\n",
    "            counter1(8)\n",
    "            circle_list[1]=x \n",
    "            basket.remove(x)\n",
    "        elif x==[\"circle\",\"green\"]:\n",
    "            counter1(10)\n",
    "            counter1(9)\n",
    "            circle_list[2]=x\n",
    "            basket.remove(x)\n",
    "print(square_list,\"\\n\",circle_list,\"\\n\",triangle_list)\n",
    "print(basket)\n",
    "counter1(9)"
   ]
  },
  {
   "cell_type": "code",
   "execution_count": null,
   "id": "f0893c9b",
   "metadata": {},
   "outputs": [],
   "source": []
  },
  {
   "cell_type": "code",
   "execution_count": null,
   "id": "543e5670",
   "metadata": {},
   "outputs": [],
   "source": []
  },
  {
   "cell_type": "code",
   "execution_count": null,
   "id": "224afd3c",
   "metadata": {},
   "outputs": [],
   "source": []
  }
 ],
 "metadata": {
  "kernelspec": {
   "display_name": "Python 3",
   "language": "python",
   "name": "python3"
  },
  "language_info": {
   "codemirror_mode": {
    "name": "ipython",
    "version": 3
   },
   "file_extension": ".py",
   "mimetype": "text/x-python",
   "name": "python",
   "nbconvert_exporter": "python",
   "pygments_lexer": "ipython3",
   "version": "3.8.8"
  },
  "varInspector": {
   "cols": {
    "lenName": 16,
    "lenType": 16,
    "lenVar": 40
   },
   "kernels_config": {
    "python": {
     "delete_cmd_postfix": "",
     "delete_cmd_prefix": "del ",
     "library": "var_list.py",
     "varRefreshCmd": "print(var_dic_list())"
    },
    "r": {
     "delete_cmd_postfix": ") ",
     "delete_cmd_prefix": "rm(",
     "library": "var_list.r",
     "varRefreshCmd": "cat(var_dic_list()) "
    }
   },
   "types_to_exclude": [
    "module",
    "function",
    "builtin_function_or_method",
    "instance",
    "_Feature"
   ],
   "window_display": false
  }
 },
 "nbformat": 4,
 "nbformat_minor": 5
}
